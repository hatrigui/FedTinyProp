{
 "cells": [
  {
   "cell_type": "code",
   "execution_count": 1,
   "metadata": {},
   "outputs": [
    {
     "name": "stdout",
     "output_type": "stream",
     "text": [
      "Project root added to sys.path\n"
     ]
    }
   ],
   "source": [
    "\n",
    "import sys\n",
    "import os\n",
    "sys.path.append(os.path.abspath(os.path.join(os.getcwd(), '..')))\n",
    "\n",
    "print(\"Project root added to sys.path\")\n"
   ]
  },
  {
   "cell_type": "markdown",
   "metadata": {},
   "source": [
    "## Imports"
   ]
  },
  {
   "cell_type": "code",
   "execution_count": 2,
   "metadata": {},
   "outputs": [
    {
     "name": "stderr",
     "output_type": "stream",
     "text": [
      "c:\\Users\\la7tim\\AppData\\Local\\Programs\\Python\\Python311\\Lib\\site-packages\\torchvision\\io\\image.py:13: UserWarning: Failed to load image Python extension: '[WinError 127] The specified procedure could not be found'If you don't plan on using image functionality from `torchvision.io`, you can ignore this warning. Otherwise, there might be something wrong with your environment. Did you have `libjpeg` or `libpng` installed before building `torchvision` from source?\n",
      "  warn(\n"
     ]
    }
   ],
   "source": [
    "import torch\n",
    "from utils.data_loader import load_dataset\n",
    "from utils.data_partition import (\n",
    "    iid_partition,\n",
    "    non_iid_partition,\n",
    "    dirichlet_partition,\n",
    "    quantity_skew_partition,\n",
    "    temporal_partition,\n",
    "    hybrid_partition,\n",
    ")\n",
    "from clients.federated_training import federated_training"
   ]
  },
  {
   "cell_type": "markdown",
   "metadata": {},
   "source": [
    "## Configuration"
   ]
  },
  {
   "cell_type": "code",
   "execution_count": 3,
   "metadata": {},
   "outputs": [],
   "source": [
    "dataset_name = \"mnist\"\n",
    "num_clients = 5\n",
    "rounds = 5\n",
    "device = \"cuda\" if torch.cuda.is_available() else \"cpu\""
   ]
  },
  {
   "cell_type": "markdown",
   "metadata": {},
   "source": [
    "## Load Dataset"
   ]
  },
  {
   "cell_type": "code",
   "execution_count": 4,
   "metadata": {},
   "outputs": [
    {
     "name": "stdout",
     "output_type": "stream",
     "text": [
      "Downloading http://yann.lecun.com/exdb/mnist/train-images-idx3-ubyte.gz\n",
      "Failed to download (trying next):\n",
      "HTTP Error 404: Not Found\n",
      "\n",
      "Downloading https://ossci-datasets.s3.amazonaws.com/mnist/train-images-idx3-ubyte.gz\n",
      "Downloading https://ossci-datasets.s3.amazonaws.com/mnist/train-images-idx3-ubyte.gz to ./data\\MNIST\\raw\\train-images-idx3-ubyte.gz\n"
     ]
    },
    {
     "name": "stderr",
     "output_type": "stream",
     "text": [
      "100%|██████████| 9912422/9912422 [00:02<00:00, 4899798.48it/s]\n"
     ]
    },
    {
     "name": "stdout",
     "output_type": "stream",
     "text": [
      "Extracting ./data\\MNIST\\raw\\train-images-idx3-ubyte.gz to ./data\\MNIST\\raw\n",
      "\n",
      "Downloading http://yann.lecun.com/exdb/mnist/train-labels-idx1-ubyte.gz\n",
      "Failed to download (trying next):\n",
      "HTTP Error 404: Not Found\n",
      "\n",
      "Downloading https://ossci-datasets.s3.amazonaws.com/mnist/train-labels-idx1-ubyte.gz\n",
      "Downloading https://ossci-datasets.s3.amazonaws.com/mnist/train-labels-idx1-ubyte.gz to ./data\\MNIST\\raw\\train-labels-idx1-ubyte.gz\n"
     ]
    },
    {
     "name": "stderr",
     "output_type": "stream",
     "text": [
      "100%|██████████| 28881/28881 [00:00<00:00, 295367.90it/s]\n"
     ]
    },
    {
     "name": "stdout",
     "output_type": "stream",
     "text": [
      "Extracting ./data\\MNIST\\raw\\train-labels-idx1-ubyte.gz to ./data\\MNIST\\raw\n",
      "\n",
      "Downloading http://yann.lecun.com/exdb/mnist/t10k-images-idx3-ubyte.gz\n",
      "Failed to download (trying next):\n",
      "HTTP Error 404: Not Found\n",
      "\n",
      "Downloading https://ossci-datasets.s3.amazonaws.com/mnist/t10k-images-idx3-ubyte.gz\n",
      "Downloading https://ossci-datasets.s3.amazonaws.com/mnist/t10k-images-idx3-ubyte.gz to ./data\\MNIST\\raw\\t10k-images-idx3-ubyte.gz\n"
     ]
    },
    {
     "name": "stderr",
     "output_type": "stream",
     "text": [
      "100%|██████████| 1648877/1648877 [00:00<00:00, 2378061.04it/s]\n"
     ]
    },
    {
     "name": "stdout",
     "output_type": "stream",
     "text": [
      "Extracting ./data\\MNIST\\raw\\t10k-images-idx3-ubyte.gz to ./data\\MNIST\\raw\n",
      "\n",
      "Downloading http://yann.lecun.com/exdb/mnist/t10k-labels-idx1-ubyte.gz\n",
      "Failed to download (trying next):\n",
      "HTTP Error 404: Not Found\n",
      "\n",
      "Downloading https://ossci-datasets.s3.amazonaws.com/mnist/t10k-labels-idx1-ubyte.gz\n",
      "Downloading https://ossci-datasets.s3.amazonaws.com/mnist/t10k-labels-idx1-ubyte.gz to ./data\\MNIST\\raw\\t10k-labels-idx1-ubyte.gz\n"
     ]
    },
    {
     "name": "stderr",
     "output_type": "stream",
     "text": [
      "100%|██████████| 4542/4542 [00:00<00:00, 4547750.96it/s]"
     ]
    },
    {
     "name": "stdout",
     "output_type": "stream",
     "text": [
      "Extracting ./data\\MNIST\\raw\\t10k-labels-idx1-ubyte.gz to ./data\\MNIST\\raw\n",
      "\n",
      "[INFO] Loaded dataset 'mnist' with 60000 training samples and 10000 testing samples.\n"
     ]
    },
    {
     "name": "stderr",
     "output_type": "stream",
     "text": [
      "\n"
     ]
    }
   ],
   "source": [
    "trainset, testset = load_dataset(dataset_name)"
   ]
  },
  {
   "cell_type": "markdown",
   "metadata": {},
   "source": [
    "## Create Partitions"
   ]
  },
  {
   "cell_type": "code",
   "execution_count": 5,
   "metadata": {},
   "outputs": [
    {
     "name": "stderr",
     "output_type": "stream",
     "text": [
      "c:\\Users\\la7tim\\Desktop\\Internship\\FedTinyProp\\utils\\data_partition.py:19: DeprecationWarning: __array__ implementation doesn't accept a copy keyword, so passing copy=False failed. __array__ must implement 'dtype' and 'copy' keyword arguments. To learn more, see the migration guide https://numpy.org/devdocs/numpy_2_0_migration_guide.html#adapting-to-changes-in-the-copy-keyword\n",
      "  labels = np.array(dataset.targets)\n"
     ]
    }
   ],
   "source": [
    "partitions = {\n",
    "    \"iid\": iid_partition(trainset, num_clients),\n",
    "    \"non_iid\": non_iid_partition(trainset, num_clients=num_clients, num_shards=10),\n",
    "    \"dirichlet\": dirichlet_partition(trainset, num_clients=num_clients, alpha=0.5),\n",
    "    \"quantity_skew\": quantity_skew_partition(trainset, num_clients=num_clients),\n",
    "    \"temporal\": temporal_partition(trainset, num_clients=num_clients),\n",
    "    \"hybrid\": hybrid_partition(trainset, num_clients=num_clients, alpha=0.5),\n",
    "}"
   ]
  },
  {
   "cell_type": "markdown",
   "metadata": {},
   "source": [
    "## Federated Training Loop"
   ]
  },
  {
   "cell_type": "code",
   "execution_count": 6,
   "metadata": {},
   "outputs": [
    {
     "name": "stdout",
     "output_type": "stream",
     "text": [
      "\n",
      "--- Federated Training with IID partitions ---\n",
      "\n",
      "Round 1/5\n",
      "Test Accuracy: 0.8893\n",
      "\n",
      "Round 2/5\n",
      "Test Accuracy: 0.9795\n",
      "\n",
      "Round 3/5\n",
      "Test Accuracy: 0.9813\n",
      "\n",
      "Round 4/5\n",
      "Test Accuracy: 0.9874\n",
      "\n",
      "Round 5/5\n",
      "Test Accuracy: 0.9890\n",
      "\n",
      "--- Federated Training with NON_IID partitions ---\n",
      "\n",
      "Round 1/5\n",
      "Test Accuracy: 0.3281\n",
      "\n",
      "Round 2/5\n",
      "Test Accuracy: 0.7338\n",
      "\n",
      "Round 3/5\n",
      "Test Accuracy: 0.4699\n",
      "\n",
      "Round 4/5\n",
      "Test Accuracy: 0.6704\n",
      "\n",
      "Round 5/5\n",
      "Test Accuracy: 0.5988\n",
      "\n",
      "--- Federated Training with DIRICHLET partitions ---\n",
      "\n",
      "Round 1/5\n",
      "Test Accuracy: 0.8294\n",
      "\n",
      "Round 2/5\n",
      "Test Accuracy: 0.9585\n",
      "\n",
      "Round 3/5\n",
      "Test Accuracy: 0.9769\n",
      "\n",
      "Round 4/5\n",
      "Test Accuracy: 0.9821\n",
      "\n",
      "Round 5/5\n",
      "Test Accuracy: 0.9852\n",
      "\n",
      "--- Federated Training with QUANTITY_SKEW partitions ---\n",
      "\n",
      "Round 1/5\n",
      "Test Accuracy: 0.9234\n",
      "\n",
      "Round 2/5\n",
      "Test Accuracy: 0.9788\n",
      "\n",
      "Round 3/5\n",
      "Test Accuracy: 0.9837\n",
      "\n",
      "Round 4/5\n",
      "Test Accuracy: 0.9863\n",
      "\n",
      "Round 5/5\n",
      "Test Accuracy: 0.9889\n",
      "\n",
      "--- Federated Training with TEMPORAL partitions ---\n",
      "\n",
      "Round 1/5\n",
      "Test Accuracy: 0.9644\n",
      "\n",
      "Round 2/5\n",
      "Test Accuracy: 0.9804\n",
      "\n",
      "Round 3/5\n",
      "Test Accuracy: 0.9816\n",
      "\n",
      "Round 4/5\n",
      "Test Accuracy: 0.9861\n",
      "\n",
      "Round 5/5\n",
      "Test Accuracy: 0.9849\n",
      "\n",
      "--- Federated Training with HYBRID partitions ---\n",
      "\n",
      "Round 1/5\n",
      "Test Accuracy: 0.6868\n",
      "\n",
      "Round 2/5\n",
      "Test Accuracy: 0.8938\n",
      "\n",
      "Round 3/5\n",
      "Test Accuracy: 0.9481\n",
      "\n",
      "Round 4/5\n",
      "Test Accuracy: 0.9683\n",
      "\n",
      "Round 5/5\n",
      "Test Accuracy: 0.9641\n"
     ]
    }
   ],
   "source": [
    "results = {}\n",
    "\n",
    "for strategy, subsets in partitions.items():\n",
    "    print(f\"\\n--- Federated Training with {strategy.upper()} partitions ---\")\n",
    "    global_model, test_accs = federated_training(\n",
    "        client_datasets=subsets,\n",
    "        model_name=dataset_name,\n",
    "        testset=testset,\n",
    "        rounds=rounds,\n",
    "        device=device\n",
    "    )\n",
    "    results[strategy] = test_accs"
   ]
  },
  {
   "cell_type": "markdown",
   "metadata": {},
   "source": [
    "## Results"
   ]
  },
  {
   "cell_type": "code",
   "execution_count": 7,
   "metadata": {},
   "outputs": [
    {
     "name": "stdout",
     "output_type": "stream",
     "text": [
      "\n",
      "Federated Training Accuracy per Round:\n",
      "iid: [0.8893, 0.9795, 0.9813, 0.9874, 0.989]\n",
      "non_iid: [0.3281, 0.7338, 0.4699, 0.6704, 0.5988]\n",
      "dirichlet: [0.8294, 0.9585, 0.9769, 0.9821, 0.9852]\n",
      "quantity_skew: [0.9234, 0.9788, 0.9837, 0.9863, 0.9889]\n",
      "temporal: [0.9644, 0.9804, 0.9816, 0.9861, 0.9849]\n",
      "hybrid: [0.6868, 0.8938, 0.9481, 0.9683, 0.9641]\n"
     ]
    }
   ],
   "source": [
    "print(\"\\nFederated Training Accuracy per Round:\")\n",
    "for strategy, accs in results.items():\n",
    "    print(f\"{strategy}: {accs}\")"
   ]
  },
  {
   "cell_type": "markdown",
   "metadata": {},
   "source": [
    "## Trying to fix non IID \n",
    "1. Weighted Aggregation (so that clients with more data or higher performance have more influence)."
   ]
  },
  {
   "cell_type": "code",
   "execution_count": 10,
   "metadata": {},
   "outputs": [
    {
     "name": "stderr",
     "output_type": "stream",
     "text": [
      "c:\\Users\\la7tim\\Desktop\\Internship\\FedTinyProp\\utils\\data_partition.py:19: DeprecationWarning: __array__ implementation doesn't accept a copy keyword, so passing copy=False failed. __array__ must implement 'dtype' and 'copy' keyword arguments. To learn more, see the migration guide https://numpy.org/devdocs/numpy_2_0_migration_guide.html#adapting-to-changes-in-the-copy-keyword\n",
      "  labels = np.array(dataset.targets)\n"
     ]
    }
   ],
   "source": [
    "partitions = {\n",
    "    \"iid\": iid_partition(trainset, num_clients),\n",
    "    \"non_iid\": non_iid_partition(trainset, num_clients=num_clients, num_shards=10),\n",
    "}"
   ]
  },
  {
   "cell_type": "code",
   "execution_count": 11,
   "metadata": {},
   "outputs": [
    {
     "name": "stdout",
     "output_type": "stream",
     "text": [
      "\n",
      "--- Federated Training with IID partitions ---\n",
      "\n",
      "Round 1/5\n",
      "Test Accuracy: 0.9496\n",
      "\n",
      "Round 2/5\n",
      "Test Accuracy: 0.9751\n",
      "\n",
      "Round 3/5\n",
      "Test Accuracy: 0.9848\n",
      "\n",
      "Round 4/5\n",
      "Test Accuracy: 0.9853\n",
      "\n",
      "Round 5/5\n",
      "Test Accuracy: 0.9869\n",
      "\n",
      "--- Federated Training with NON_IID partitions ---\n",
      "\n",
      "Round 1/5\n",
      "Test Accuracy: 0.3267\n",
      "\n",
      "Round 2/5\n",
      "Test Accuracy: 0.5505\n",
      "\n",
      "Round 3/5\n",
      "Test Accuracy: 0.3720\n",
      "\n",
      "Round 4/5\n",
      "Test Accuracy: 0.5496\n",
      "\n",
      "Round 5/5\n",
      "Test Accuracy: 0.4167\n"
     ]
    }
   ],
   "source": [
    "from clients.weighted_aggregation.federated_training import weighted_federated_training\n",
    "\n",
    "results = {}\n",
    "\n",
    "for strategy, subsets in partitions.items():\n",
    "    print(f\"\\n--- Federated Training with {strategy.upper()} partitions ---\")\n",
    "    global_model, test_accs = weighted_federated_training(\n",
    "        client_datasets=subsets,\n",
    "        model_name=dataset_name,\n",
    "        testset=testset,\n",
    "        rounds=rounds,\n",
    "        device=device\n",
    "    )\n",
    "    results[strategy] = test_accs"
   ]
  }
 ],
 "metadata": {
  "kernelspec": {
   "display_name": "Python 3",
   "language": "python",
   "name": "python3"
  },
  "language_info": {
   "codemirror_mode": {
    "name": "ipython",
    "version": 3
   },
   "file_extension": ".py",
   "mimetype": "text/x-python",
   "name": "python",
   "nbconvert_exporter": "python",
   "pygments_lexer": "ipython3",
   "version": "3.11.4"
  }
 },
 "nbformat": 4,
 "nbformat_minor": 2
}
